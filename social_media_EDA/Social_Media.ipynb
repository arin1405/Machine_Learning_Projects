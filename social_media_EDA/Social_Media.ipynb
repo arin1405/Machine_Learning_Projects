{
 "cells": [
  {
   "cell_type": "code",
   "execution_count": 1,
   "metadata": {
    "collapsed": true
   },
   "outputs": [],
   "source": [
    "import numpy as np\n",
    "import pandas as pd\n",
    "import matplotlib.pyplot as plt\n",
    "import seaborn as sns"
   ]
  },
  {
   "cell_type": "code",
   "execution_count": 2,
   "metadata": {
    "collapsed": true
   },
   "outputs": [],
   "source": [
    "%matplotlib inline"
   ]
  },
  {
   "cell_type": "markdown",
   "metadata": {},
   "source": [
    "### Read the dataset from excel file"
   ]
  },
  {
   "cell_type": "code",
   "execution_count": 17,
   "metadata": {
    "collapsed": true
   },
   "outputs": [],
   "source": [
    "df = pd.read_excel(\"TEN_GOP Twitter - Top Social Interactions.xlsx\")"
   ]
  },
  {
   "cell_type": "code",
   "execution_count": 18,
   "metadata": {
    "collapsed": false
   },
   "outputs": [
    {
     "data": {
      "text/html": [
       "<div>\n",
       "<style scoped>\n",
       "    .dataframe tbody tr th:only-of-type {\n",
       "        vertical-align: middle;\n",
       "    }\n",
       "\n",
       "    .dataframe tbody tr th {\n",
       "        vertical-align: top;\n",
       "    }\n",
       "\n",
       "    .dataframe thead th {\n",
       "        text-align: right;\n",
       "    }\n",
       "</style>\n",
       "<table border=\"1\" class=\"dataframe\">\n",
       "  <thead>\n",
       "    <tr style=\"text-align: right;\">\n",
       "      <th></th>\n",
       "      <th>Source</th>\n",
       "      <th>Followers</th>\n",
       "      <th>Date</th>\n",
       "      <th>Interactions</th>\n",
       "      <th>Post Type</th>\n",
       "    </tr>\n",
       "  </thead>\n",
       "  <tbody>\n",
       "    <tr>\n",
       "      <th>0</th>\n",
       "      <td>1001</td>\n",
       "      <td>229484.0</td>\n",
       "      <td>Sun Aug 13 2017 22:25:02 GMT-0500 (CDT)</td>\n",
       "      <td>30470.0</td>\n",
       "      <td>Twitter</td>\n",
       "    </tr>\n",
       "    <tr>\n",
       "      <th>1</th>\n",
       "      <td>1002</td>\n",
       "      <td>20775598.0</td>\n",
       "      <td>Sun Apr 16 2017 16:26:13 GMT-0500 (CDT)</td>\n",
       "      <td>25277.0</td>\n",
       "      <td>Twitter</td>\n",
       "    </tr>\n",
       "    <tr>\n",
       "      <th>2</th>\n",
       "      <td>1003</td>\n",
       "      <td>0.0</td>\n",
       "      <td>Sat Jun 17 2017 17:01:00 GMT-0500 (CDT)</td>\n",
       "      <td>16205.0</td>\n",
       "      <td>Facebook</td>\n",
       "    </tr>\n",
       "    <tr>\n",
       "      <th>3</th>\n",
       "      <td>1004</td>\n",
       "      <td>145608.0</td>\n",
       "      <td>Sat Aug 12 2017 16:59:58 GMT-0500 (CDT)</td>\n",
       "      <td>14609.0</td>\n",
       "      <td>Twitter</td>\n",
       "    </tr>\n",
       "    <tr>\n",
       "      <th>4</th>\n",
       "      <td>1005</td>\n",
       "      <td>560378.0</td>\n",
       "      <td>Tue Feb 14 2017 20:48:34 GMT-0600 (CST)</td>\n",
       "      <td>13058.0</td>\n",
       "      <td>Twitter</td>\n",
       "    </tr>\n",
       "  </tbody>\n",
       "</table>\n",
       "</div>"
      ],
      "text/plain": [
       "  Source   Followers                                     Date  Interactions  \\\n",
       "0   1001    229484.0  Sun Aug 13 2017 22:25:02 GMT-0500 (CDT)       30470.0   \n",
       "1   1002  20775598.0  Sun Apr 16 2017 16:26:13 GMT-0500 (CDT)       25277.0   \n",
       "2   1003         0.0  Sat Jun 17 2017 17:01:00 GMT-0500 (CDT)       16205.0   \n",
       "3   1004    145608.0  Sat Aug 12 2017 16:59:58 GMT-0500 (CDT)       14609.0   \n",
       "4   1005    560378.0  Tue Feb 14 2017 20:48:34 GMT-0600 (CST)       13058.0   \n",
       "\n",
       "  Post Type  \n",
       "0   Twitter  \n",
       "1   Twitter  \n",
       "2  Facebook  \n",
       "3   Twitter  \n",
       "4   Twitter  "
      ]
     },
     "execution_count": 18,
     "metadata": {},
     "output_type": "execute_result"
    }
   ],
   "source": [
    "df.head()"
   ]
  },
  {
   "cell_type": "markdown",
   "metadata": {},
   "source": [
    "### Check dimension"
   ]
  },
  {
   "cell_type": "code",
   "execution_count": 19,
   "metadata": {
    "collapsed": false
   },
   "outputs": [
    {
     "data": {
      "text/plain": [
       "(780, 5)"
      ]
     },
     "execution_count": 19,
     "metadata": {},
     "output_type": "execute_result"
    }
   ],
   "source": [
    "df.shape"
   ]
  },
  {
   "cell_type": "markdown",
   "metadata": {},
   "source": [
    "### Check data types"
   ]
  },
  {
   "cell_type": "code",
   "execution_count": 20,
   "metadata": {
    "collapsed": false
   },
   "outputs": [
    {
     "name": "stdout",
     "output_type": "stream",
     "text": [
      "<class 'pandas.core.frame.DataFrame'>\n",
      "RangeIndex: 780 entries, 0 to 779\n",
      "Data columns (total 5 columns):\n",
      "Source          748 non-null object\n",
      "Followers       442 non-null float64\n",
      "Date            442 non-null object\n",
      "Interactions    442 non-null float64\n",
      "Post Type       442 non-null object\n",
      "dtypes: float64(2), object(3)\n",
      "memory usage: 30.5+ KB\n"
     ]
    }
   ],
   "source": [
    "df.info()"
   ]
  },
  {
   "cell_type": "markdown",
   "metadata": {},
   "source": [
    "### Check missing values"
   ]
  },
  {
   "cell_type": "code",
   "execution_count": 21,
   "metadata": {
    "collapsed": false
   },
   "outputs": [
    {
     "data": {
      "text/plain": [
       "Source           32\n",
       "Followers       338\n",
       "Date            338\n",
       "Interactions    338\n",
       "Post Type       338\n",
       "dtype: int64"
      ]
     },
     "execution_count": 21,
     "metadata": {},
     "output_type": "execute_result"
    }
   ],
   "source": [
    "df.isna().sum()"
   ]
  },
  {
   "cell_type": "markdown",
   "metadata": {},
   "source": [
    "### Remove missing rows"
   ]
  },
  {
   "cell_type": "code",
   "execution_count": 22,
   "metadata": {
    "collapsed": true
   },
   "outputs": [],
   "source": [
    "df.dropna(inplace=True)"
   ]
  },
  {
   "cell_type": "code",
   "execution_count": 23,
   "metadata": {
    "collapsed": false
   },
   "outputs": [
    {
     "data": {
      "text/plain": [
       "Source          0\n",
       "Followers       0\n",
       "Date            0\n",
       "Interactions    0\n",
       "Post Type       0\n",
       "dtype: int64"
      ]
     },
     "execution_count": 23,
     "metadata": {},
     "output_type": "execute_result"
    }
   ],
   "source": [
    "df.isna().sum()"
   ]
  },
  {
   "cell_type": "markdown",
   "metadata": {},
   "source": [
    "### Check frequency of Interactions in different social media platforms"
   ]
  },
  {
   "cell_type": "code",
   "execution_count": 28,
   "metadata": {
    "collapsed": true
   },
   "outputs": [],
   "source": [
    "df_sm = df['Post Type'].value_counts()"
   ]
  },
  {
   "cell_type": "code",
   "execution_count": 31,
   "metadata": {
    "collapsed": false
   },
   "outputs": [
    {
     "data": {
      "image/png": "[encoded data removed]",
      "text/plain": [
       "<Figure size 842.4x595.44 with 1 Axes>"
      ]
     },
     "metadata": {},
     "output_type": "display_data"
    }
   ],
   "source": [
    "sns.set(style='darkgrid', palette='dark', font_scale=2, rc={'figure.figsize':(11.7,8.27)})\n",
    "plt.title('Social Media Interactions Trend')\n",
    "df_sm.plot.bar()\n",
    "plt.ylabel('Number')\n",
    "plt.xlabel('Social Media Platforms')\n",
    "plt.show()"
   ]
  },
  {
   "cell_type": "markdown",
   "metadata": {},
   "source": [
    "### Check trends of having followers in different social media platforms"
   ]
  },
  {
   "cell_type": "code",
   "execution_count": 32,
   "metadata": {
    "collapsed": false
   },
   "outputs": [],
   "source": [
    "df_sm = df.groupby('Post Type')['Followers'].sum()"
   ]
  },
  {
   "cell_type": "code",
   "execution_count": 34,
   "metadata": {
    "collapsed": false
   },
   "outputs": [
    {
     "data": {
      "text/plain": [
       "Post Type\n",
       "Facebook    25799260.0\n",
       "Reddit      10125366.0\n",
       "Twitter     81372212.0\n",
       "Name: Followers, dtype: float64"
      ]
     },
     "execution_count": 34,
     "metadata": {},
     "output_type": "execute_result"
    }
   ],
   "source": [
    "df_sm"
   ]
  },
  {
   "cell_type": "code",
   "execution_count": 37,
   "metadata": {
    "collapsed": false
   },
   "outputs": [
    {
     "data": {
      "image/png": "[encoded data removed]",
      "text/plain": [
       "<Figure size 842.4x595.44 with 1 Axes>"
      ]
     },
     "metadata": {},
     "output_type": "display_data"
    }
   ],
   "source": [
    "sns.set(style='darkgrid', palette='dark', font_scale=2, rc={'figure.figsize':(11.7,8.27)})\n",
    "plt.title('Followers Trend in different platforms')\n",
    "df_sm.plot.bar()\n",
    "plt.ylabel('# of followers')\n",
    "plt.xlabel('Social Media Platforms')\n",
    "plt.show()"
   ]
  },
  {
   "cell_type": "markdown",
   "metadata": {},
   "source": [
    "### Get users having top 10 highest number of followers"
   ]
  },
  {
   "cell_type": "code",
   "execution_count": 42,
   "metadata": {
    "collapsed": true
   },
   "outputs": [],
   "source": [
    "df_sm = df.sort_values('Followers', ascending=False)"
   ]
  },
  {
   "cell_type": "code",
   "execution_count": 45,
   "metadata": {
    "collapsed": false
   },
   "outputs": [
    {
     "data": {
      "text/html": [
       "<div>\n",
       "<style scoped>\n",
       "    .dataframe tbody tr th:only-of-type {\n",
       "        vertical-align: middle;\n",
       "    }\n",
       "\n",
       "    .dataframe tbody tr th {\n",
       "        vertical-align: top;\n",
       "    }\n",
       "\n",
       "    .dataframe thead th {\n",
       "        text-align: right;\n",
       "    }\n",
       "</style>\n",
       "<table border=\"1\" class=\"dataframe\">\n",
       "  <thead>\n",
       "    <tr style=\"text-align: right;\">\n",
       "      <th></th>\n",
       "      <th>Source</th>\n",
       "      <th>Followers</th>\n",
       "      <th>Interactions</th>\n",
       "      <th>Post Type</th>\n",
       "    </tr>\n",
       "  </thead>\n",
       "  <tbody>\n",
       "    <tr>\n",
       "      <th>1</th>\n",
       "      <td>1002</td>\n",
       "      <td>20775598.0</td>\n",
       "      <td>25277.0</td>\n",
       "      <td>Twitter</td>\n",
       "    </tr>\n",
       "    <tr>\n",
       "      <th>5</th>\n",
       "      <td>1006</td>\n",
       "      <td>3465075.0</td>\n",
       "      <td>11038.0</td>\n",
       "      <td>Twitter</td>\n",
       "    </tr>\n",
       "    <tr>\n",
       "      <th>72</th>\n",
       "      <td>1073</td>\n",
       "      <td>2864927.0</td>\n",
       "      <td>1019.0</td>\n",
       "      <td>Twitter</td>\n",
       "    </tr>\n",
       "    <tr>\n",
       "      <th>111</th>\n",
       "      <td>1112</td>\n",
       "      <td>2569646.0</td>\n",
       "      <td>652.0</td>\n",
       "      <td>Facebook</td>\n",
       "    </tr>\n",
       "    <tr>\n",
       "      <th>182</th>\n",
       "      <td>1183</td>\n",
       "      <td>2154565.0</td>\n",
       "      <td>327.0</td>\n",
       "      <td>Twitter</td>\n",
       "    </tr>\n",
       "    <tr>\n",
       "      <th>27</th>\n",
       "      <td>1028</td>\n",
       "      <td>1832465.0</td>\n",
       "      <td>3249.0</td>\n",
       "      <td>Facebook</td>\n",
       "    </tr>\n",
       "    <tr>\n",
       "      <th>130</th>\n",
       "      <td>1131</td>\n",
       "      <td>1661656.0</td>\n",
       "      <td>508.0</td>\n",
       "      <td>Twitter</td>\n",
       "    </tr>\n",
       "    <tr>\n",
       "      <th>31</th>\n",
       "      <td>1032</td>\n",
       "      <td>1533486.0</td>\n",
       "      <td>2853.0</td>\n",
       "      <td>Twitter</td>\n",
       "    </tr>\n",
       "    <tr>\n",
       "      <th>43</th>\n",
       "      <td>1044</td>\n",
       "      <td>1413222.0</td>\n",
       "      <td>1795.0</td>\n",
       "      <td>Facebook</td>\n",
       "    </tr>\n",
       "    <tr>\n",
       "      <th>28</th>\n",
       "      <td>1029</td>\n",
       "      <td>1301884.0</td>\n",
       "      <td>3210.0</td>\n",
       "      <td>Facebook</td>\n",
       "    </tr>\n",
       "  </tbody>\n",
       "</table>\n",
       "</div>"
      ],
      "text/plain": [
       "    Source   Followers  Interactions Post Type\n",
       "1     1002  20775598.0       25277.0   Twitter\n",
       "5     1006   3465075.0       11038.0   Twitter\n",
       "72    1073   2864927.0        1019.0   Twitter\n",
       "111   1112   2569646.0         652.0  Facebook\n",
       "182   1183   2154565.0         327.0   Twitter\n",
       "27    1028   1832465.0        3249.0  Facebook\n",
       "130   1131   1661656.0         508.0   Twitter\n",
       "31    1032   1533486.0        2853.0   Twitter\n",
       "43    1044   1413222.0        1795.0  Facebook\n",
       "28    1029   1301884.0        3210.0  Facebook"
      ]
     },
     "execution_count": 45,
     "metadata": {},
     "output_type": "execute_result"
    }
   ],
   "source": [
    "df_sm[['Source','Followers','Interactions','Post Type']].head(10)"
   ]
  },
  {
   "cell_type": "markdown",
   "metadata": {},
   "source": [
    "### Get top 10 users having highest number of followers in Twitter"
   ]
  },
  {
   "cell_type": "code",
   "execution_count": 50,
   "metadata": {
    "collapsed": false
   },
   "outputs": [],
   "source": [
    "df_sm = df[df['Post Type']=='Twitter']\n",
    "df_sm = df_sm.sort_values('Followers', ascending=False)"
   ]
  },
  {
   "cell_type": "code",
   "execution_count": 51,
   "metadata": {
    "collapsed": false
   },
   "outputs": [
    {
     "data": {
      "text/html": [
       "<div>\n",
       "<style scoped>\n",
       "    .dataframe tbody tr th:only-of-type {\n",
       "        vertical-align: middle;\n",
       "    }\n",
       "\n",
       "    .dataframe tbody tr th {\n",
       "        vertical-align: top;\n",
       "    }\n",
       "\n",
       "    .dataframe thead th {\n",
       "        text-align: right;\n",
       "    }\n",
       "</style>\n",
       "<table border=\"1\" class=\"dataframe\">\n",
       "  <thead>\n",
       "    <tr style=\"text-align: right;\">\n",
       "      <th></th>\n",
       "      <th>Source</th>\n",
       "      <th>Followers</th>\n",
       "      <th>Date</th>\n",
       "      <th>Interactions</th>\n",
       "      <th>Post Type</th>\n",
       "    </tr>\n",
       "  </thead>\n",
       "  <tbody>\n",
       "    <tr>\n",
       "      <th>1</th>\n",
       "      <td>1002</td>\n",
       "      <td>20775598.0</td>\n",
       "      <td>Sun Apr 16 2017 16:26:13 GMT-0500 (CDT)</td>\n",
       "      <td>25277.0</td>\n",
       "      <td>Twitter</td>\n",
       "    </tr>\n",
       "    <tr>\n",
       "      <th>5</th>\n",
       "      <td>1006</td>\n",
       "      <td>3465075.0</td>\n",
       "      <td>Thu Feb 16 2017 19:55:47 GMT-0600 (CST)</td>\n",
       "      <td>11038.0</td>\n",
       "      <td>Twitter</td>\n",
       "    </tr>\n",
       "    <tr>\n",
       "      <th>72</th>\n",
       "      <td>1073</td>\n",
       "      <td>2864927.0</td>\n",
       "      <td>Thu Oct 06 2016 14:18:25 GMT-0500 (CDT)</td>\n",
       "      <td>1019.0</td>\n",
       "      <td>Twitter</td>\n",
       "    </tr>\n",
       "    <tr>\n",
       "      <th>182</th>\n",
       "      <td>1183</td>\n",
       "      <td>2154565.0</td>\n",
       "      <td>Thu Jan 26 2017 16:39:59 GMT-0600 (CST)</td>\n",
       "      <td>327.0</td>\n",
       "      <td>Twitter</td>\n",
       "    </tr>\n",
       "    <tr>\n",
       "      <th>130</th>\n",
       "      <td>1131</td>\n",
       "      <td>1661656.0</td>\n",
       "      <td>Tue Dec 06 2016 01:41:08 GMT-0600 (CST)</td>\n",
       "      <td>508.0</td>\n",
       "      <td>Twitter</td>\n",
       "    </tr>\n",
       "    <tr>\n",
       "      <th>31</th>\n",
       "      <td>1032</td>\n",
       "      <td>1533486.0</td>\n",
       "      <td>Sun Oct 09 2016 20:41:43 GMT-0500 (CDT)</td>\n",
       "      <td>2853.0</td>\n",
       "      <td>Twitter</td>\n",
       "    </tr>\n",
       "    <tr>\n",
       "      <th>202</th>\n",
       "      <td>1203</td>\n",
       "      <td>1300749.0</td>\n",
       "      <td>Sat Sep 17 2016 21:34:51 GMT-0500 (CDT)</td>\n",
       "      <td>289.0</td>\n",
       "      <td>Twitter</td>\n",
       "    </tr>\n",
       "    <tr>\n",
       "      <th>42</th>\n",
       "      <td>1043</td>\n",
       "      <td>1247182.0</td>\n",
       "      <td>Mon May 22 2017 15:35:06 GMT-0500 (CDT)</td>\n",
       "      <td>1808.0</td>\n",
       "      <td>Twitter</td>\n",
       "    </tr>\n",
       "    <tr>\n",
       "      <th>63</th>\n",
       "      <td>1064</td>\n",
       "      <td>1049472.0</td>\n",
       "      <td>Sat Apr 22 2017 18:53:10 GMT-0500 (CDT)</td>\n",
       "      <td>1217.0</td>\n",
       "      <td>Twitter</td>\n",
       "    </tr>\n",
       "    <tr>\n",
       "      <th>13</th>\n",
       "      <td>1014</td>\n",
       "      <td>1040684.0</td>\n",
       "      <td>Tue Nov 08 2016 16:00:03 GMT-0600 (CST)</td>\n",
       "      <td>5189.0</td>\n",
       "      <td>Twitter</td>\n",
       "    </tr>\n",
       "  </tbody>\n",
       "</table>\n",
       "</div>"
      ],
      "text/plain": [
       "    Source   Followers                                     Date  Interactions  \\\n",
       "1     1002  20775598.0  Sun Apr 16 2017 16:26:13 GMT-0500 (CDT)       25277.0   \n",
       "5     1006   3465075.0  Thu Feb 16 2017 19:55:47 GMT-0600 (CST)       11038.0   \n",
       "72    1073   2864927.0  Thu Oct 06 2016 14:18:25 GMT-0500 (CDT)        1019.0   \n",
       "182   1183   2154565.0  Thu Jan 26 2017 16:39:59 GMT-0600 (CST)         327.0   \n",
       "130   1131   1661656.0  Tue Dec 06 2016 01:41:08 GMT-0600 (CST)         508.0   \n",
       "31    1032   1533486.0  Sun Oct 09 2016 20:41:43 GMT-0500 (CDT)        2853.0   \n",
       "202   1203   1300749.0  Sat Sep 17 2016 21:34:51 GMT-0500 (CDT)         289.0   \n",
       "42    1043   1247182.0  Mon May 22 2017 15:35:06 GMT-0500 (CDT)        1808.0   \n",
       "63    1064   1049472.0  Sat Apr 22 2017 18:53:10 GMT-0500 (CDT)        1217.0   \n",
       "13    1014   1040684.0  Tue Nov 08 2016 16:00:03 GMT-0600 (CST)        5189.0   \n",
       "\n",
       "    Post Type  \n",
       "1     Twitter  \n",
       "5     Twitter  \n",
       "72    Twitter  \n",
       "182   Twitter  \n",
       "130   Twitter  \n",
       "31    Twitter  \n",
       "202   Twitter  \n",
       "42    Twitter  \n",
       "63    Twitter  \n",
       "13    Twitter  "
      ]
     },
     "execution_count": 51,
     "metadata": {},
     "output_type": "execute_result"
    }
   ],
   "source": [
    "df_sm.head(10)"
   ]
  },
  {
   "cell_type": "markdown",
   "metadata": {},
   "source": [
    "### Get top 10 users having highest number of followers in Facebook"
   ]
  },
  {
   "cell_type": "code",
   "execution_count": 52,
   "metadata": {
    "collapsed": true
   },
   "outputs": [],
   "source": [
    "df_sm = df[df['Post Type']=='Facebook']\n",
    "df_sm = df_sm.sort_values('Followers', ascending=False)"
   ]
  },
  {
   "cell_type": "code",
   "execution_count": 53,
   "metadata": {
    "collapsed": false
   },
   "outputs": [
    {
     "data": {
      "text/html": [
       "<div>\n",
       "<style scoped>\n",
       "    .dataframe tbody tr th:only-of-type {\n",
       "        vertical-align: middle;\n",
       "    }\n",
       "\n",
       "    .dataframe tbody tr th {\n",
       "        vertical-align: top;\n",
       "    }\n",
       "\n",
       "    .dataframe thead th {\n",
       "        text-align: right;\n",
       "    }\n",
       "</style>\n",
       "<table border=\"1\" class=\"dataframe\">\n",
       "  <thead>\n",
       "    <tr style=\"text-align: right;\">\n",
       "      <th></th>\n",
       "      <th>Source</th>\n",
       "      <th>Followers</th>\n",
       "      <th>Date</th>\n",
       "      <th>Interactions</th>\n",
       "      <th>Post Type</th>\n",
       "    </tr>\n",
       "  </thead>\n",
       "  <tbody>\n",
       "    <tr>\n",
       "      <th>111</th>\n",
       "      <td>1112</td>\n",
       "      <td>2569646.0</td>\n",
       "      <td>Sun Jul 30 2017 10:00:00 GMT-0500 (CDT)</td>\n",
       "      <td>652.0</td>\n",
       "      <td>Facebook</td>\n",
       "    </tr>\n",
       "    <tr>\n",
       "      <th>27</th>\n",
       "      <td>1028</td>\n",
       "      <td>1832465.0</td>\n",
       "      <td>Wed Dec 07 2016 07:00:00 GMT-0600 (CST)</td>\n",
       "      <td>3249.0</td>\n",
       "      <td>Facebook</td>\n",
       "    </tr>\n",
       "    <tr>\n",
       "      <th>43</th>\n",
       "      <td>1044</td>\n",
       "      <td>1413222.0</td>\n",
       "      <td>Mon Dec 19 2016 20:43:10 GMT-0600 (CST)</td>\n",
       "      <td>1795.0</td>\n",
       "      <td>Facebook</td>\n",
       "    </tr>\n",
       "    <tr>\n",
       "      <th>28</th>\n",
       "      <td>1029</td>\n",
       "      <td>1301884.0</td>\n",
       "      <td>Thu Dec 08 2016 14:00:00 GMT-0600 (CST)</td>\n",
       "      <td>3210.0</td>\n",
       "      <td>Facebook</td>\n",
       "    </tr>\n",
       "    <tr>\n",
       "      <th>187</th>\n",
       "      <td>1188</td>\n",
       "      <td>1269743.0</td>\n",
       "      <td>Sun Jul 30 2017 10:15:01 GMT-0500 (CDT)</td>\n",
       "      <td>319.0</td>\n",
       "      <td>Facebook</td>\n",
       "    </tr>\n",
       "    <tr>\n",
       "      <th>341</th>\n",
       "      <td>1342</td>\n",
       "      <td>1151478.0</td>\n",
       "      <td>Fri Dec 09 2016 07:00:00 GMT-0600 (CST)</td>\n",
       "      <td>149.0</td>\n",
       "      <td>Facebook</td>\n",
       "    </tr>\n",
       "    <tr>\n",
       "      <th>12</th>\n",
       "      <td>1013</td>\n",
       "      <td>980144.0</td>\n",
       "      <td>Thu Jan 19 2017 20:13:01 GMT-0600 (CST)</td>\n",
       "      <td>5287.0</td>\n",
       "      <td>Facebook</td>\n",
       "    </tr>\n",
       "    <tr>\n",
       "      <th>226</th>\n",
       "      <td>1227</td>\n",
       "      <td>959889.0</td>\n",
       "      <td>Sun Jul 30 2017 10:30:01 GMT-0500 (CDT)</td>\n",
       "      <td>251.0</td>\n",
       "      <td>Facebook</td>\n",
       "    </tr>\n",
       "    <tr>\n",
       "      <th>38</th>\n",
       "      <td>1039</td>\n",
       "      <td>955130.0</td>\n",
       "      <td>Thu Dec 08 2016 12:35:01 GMT-0600 (CST)</td>\n",
       "      <td>2024.0</td>\n",
       "      <td>Facebook</td>\n",
       "    </tr>\n",
       "    <tr>\n",
       "      <th>94</th>\n",
       "      <td>1095</td>\n",
       "      <td>952811.0</td>\n",
       "      <td>Sun Jul 30 2017 10:45:00 GMT-0500 (CDT)</td>\n",
       "      <td>773.0</td>\n",
       "      <td>Facebook</td>\n",
       "    </tr>\n",
       "  </tbody>\n",
       "</table>\n",
       "</div>"
      ],
      "text/plain": [
       "    Source  Followers                                     Date  Interactions  \\\n",
       "111   1112  2569646.0  Sun Jul 30 2017 10:00:00 GMT-0500 (CDT)         652.0   \n",
       "27    1028  1832465.0  Wed Dec 07 2016 07:00:00 GMT-0600 (CST)        3249.0   \n",
       "43    1044  1413222.0  Mon Dec 19 2016 20:43:10 GMT-0600 (CST)        1795.0   \n",
       "28    1029  1301884.0  Thu Dec 08 2016 14:00:00 GMT-0600 (CST)        3210.0   \n",
       "187   1188  1269743.0  Sun Jul 30 2017 10:15:01 GMT-0500 (CDT)         319.0   \n",
       "341   1342  1151478.0  Fri Dec 09 2016 07:00:00 GMT-0600 (CST)         149.0   \n",
       "12    1013   980144.0  Thu Jan 19 2017 20:13:01 GMT-0600 (CST)        5287.0   \n",
       "226   1227   959889.0  Sun Jul 30 2017 10:30:01 GMT-0500 (CDT)         251.0   \n",
       "38    1039   955130.0  Thu Dec 08 2016 12:35:01 GMT-0600 (CST)        2024.0   \n",
       "94    1095   952811.0  Sun Jul 30 2017 10:45:00 GMT-0500 (CDT)         773.0   \n",
       "\n",
       "    Post Type  \n",
       "111  Facebook  \n",
       "27   Facebook  \n",
       "43   Facebook  \n",
       "28   Facebook  \n",
       "187  Facebook  \n",
       "341  Facebook  \n",
       "12   Facebook  \n",
       "226  Facebook  \n",
       "38   Facebook  \n",
       "94   Facebook  "
      ]
     },
     "execution_count": 53,
     "metadata": {},
     "output_type": "execute_result"
    }
   ],
   "source": [
    "df_sm.head(10)"
   ]
  },
  {
   "cell_type": "markdown",
   "metadata": {},
   "source": [
    "### Get top 10 users having highest number of followers in Reddit"
   ]
  },
  {
   "cell_type": "code",
   "execution_count": 55,
   "metadata": {
    "collapsed": true
   },
   "outputs": [],
   "source": [
    "df_sm = df[df['Post Type']=='Reddit']\n",
    "df_sm = df_sm.sort_values('Followers', ascending=False)"
   ]
  },
  {
   "cell_type": "code",
   "execution_count": 56,
   "metadata": {
    "collapsed": false
   },
   "outputs": [
    {
     "data": {
      "text/html": [
       "<div>\n",
       "<style scoped>\n",
       "    .dataframe tbody tr th:only-of-type {\n",
       "        vertical-align: middle;\n",
       "    }\n",
       "\n",
       "    .dataframe tbody tr th {\n",
       "        vertical-align: top;\n",
       "    }\n",
       "\n",
       "    .dataframe thead th {\n",
       "        text-align: right;\n",
       "    }\n",
       "</style>\n",
       "<table border=\"1\" class=\"dataframe\">\n",
       "  <thead>\n",
       "    <tr style=\"text-align: right;\">\n",
       "      <th></th>\n",
       "      <th>Source</th>\n",
       "      <th>Followers</th>\n",
       "      <th>Date</th>\n",
       "      <th>Interactions</th>\n",
       "      <th>Post Type</th>\n",
       "    </tr>\n",
       "  </thead>\n",
       "  <tbody>\n",
       "    <tr>\n",
       "      <th>402</th>\n",
       "      <td>1403</td>\n",
       "      <td>479018.0</td>\n",
       "      <td>Thu Aug 17 2017 15:54:27 GMT-0500 (CDT)</td>\n",
       "      <td>111.0</td>\n",
       "      <td>Reddit</td>\n",
       "    </tr>\n",
       "    <tr>\n",
       "      <th>15</th>\n",
       "      <td>1016</td>\n",
       "      <td>475881.0</td>\n",
       "      <td>Mon Aug 14 2017 07:50:47 GMT-0500 (CDT)</td>\n",
       "      <td>4435.0</td>\n",
       "      <td>Reddit</td>\n",
       "    </tr>\n",
       "    <tr>\n",
       "      <th>320</th>\n",
       "      <td>1321</td>\n",
       "      <td>475881.0</td>\n",
       "      <td>Mon Aug 14 2017 08:02:57 GMT-0500 (CDT)</td>\n",
       "      <td>167.0</td>\n",
       "      <td>Reddit</td>\n",
       "    </tr>\n",
       "    <tr>\n",
       "      <th>308</th>\n",
       "      <td>1309</td>\n",
       "      <td>471667.0</td>\n",
       "      <td>Thu Aug 10 2017 17:13:21 GMT-0500 (CDT)</td>\n",
       "      <td>172.0</td>\n",
       "      <td>Reddit</td>\n",
       "    </tr>\n",
       "    <tr>\n",
       "      <th>172</th>\n",
       "      <td>1173</td>\n",
       "      <td>469724.0</td>\n",
       "      <td>Sun Jul 16 2017 18:24:03 GMT-0500 (CDT)</td>\n",
       "      <td>352.0</td>\n",
       "      <td>Reddit</td>\n",
       "    </tr>\n",
       "  </tbody>\n",
       "</table>\n",
       "</div>"
      ],
      "text/plain": [
       "    Source  Followers                                     Date  Interactions  \\\n",
       "402   1403   479018.0  Thu Aug 17 2017 15:54:27 GMT-0500 (CDT)         111.0   \n",
       "15    1016   475881.0  Mon Aug 14 2017 07:50:47 GMT-0500 (CDT)        4435.0   \n",
       "320   1321   475881.0  Mon Aug 14 2017 08:02:57 GMT-0500 (CDT)         167.0   \n",
       "308   1309   471667.0  Thu Aug 10 2017 17:13:21 GMT-0500 (CDT)         172.0   \n",
       "172   1173   469724.0  Sun Jul 16 2017 18:24:03 GMT-0500 (CDT)         352.0   \n",
       "\n",
       "    Post Type  \n",
       "402    Reddit  \n",
       "15     Reddit  \n",
       "320    Reddit  \n",
       "308    Reddit  \n",
       "172    Reddit  "
      ]
     },
     "execution_count": 56,
     "metadata": {},
     "output_type": "execute_result"
    }
   ],
   "source": [
    "df_sm.head()"
   ]
  },
  {
   "cell_type": "markdown",
   "metadata": {},
   "source": [
    "### Find the correlation between number of followers and interactions"
   ]
  },
  {
   "cell_type": "code",
   "execution_count": 59,
   "metadata": {
    "collapsed": false
   },
   "outputs": [
    {
     "data": {
      "text/html": [
       "<div>\n",
       "<style scoped>\n",
       "    .dataframe tbody tr th:only-of-type {\n",
       "        vertical-align: middle;\n",
       "    }\n",
       "\n",
       "    .dataframe tbody tr th {\n",
       "        vertical-align: top;\n",
       "    }\n",
       "\n",
       "    .dataframe thead th {\n",
       "        text-align: right;\n",
       "    }\n",
       "</style>\n",
       "<table border=\"1\" class=\"dataframe\">\n",
       "  <thead>\n",
       "    <tr style=\"text-align: right;\">\n",
       "      <th></th>\n",
       "      <th>Followers</th>\n",
       "      <th>Interactions</th>\n",
       "    </tr>\n",
       "  </thead>\n",
       "  <tbody>\n",
       "    <tr>\n",
       "      <th>Followers</th>\n",
       "      <td>1.000000</td>\n",
       "      <td>0.510615</td>\n",
       "    </tr>\n",
       "    <tr>\n",
       "      <th>Interactions</th>\n",
       "      <td>0.510615</td>\n",
       "      <td>1.000000</td>\n",
       "    </tr>\n",
       "  </tbody>\n",
       "</table>\n",
       "</div>"
      ],
      "text/plain": [
       "              Followers  Interactions\n",
       "Followers      1.000000      0.510615\n",
       "Interactions   0.510615      1.000000"
      ]
     },
     "execution_count": 59,
     "metadata": {},
     "output_type": "execute_result"
    }
   ],
   "source": [
    "df[['Followers','Interactions']].corr()"
   ]
  },
  {
   "cell_type": "markdown",
   "metadata": {},
   "source": [
    "## Feature Engineering"
   ]
  },
  {
   "cell_type": "markdown",
   "metadata": {},
   "source": [
    "### One hot encoding of Post Type\n",
    "\n",
    "There are 3 types of Post - Twitter, Facebook and Reddit"
   ]
  },
  {
   "cell_type": "code",
   "execution_count": 81,
   "metadata": {
    "collapsed": true
   },
   "outputs": [],
   "source": [
    "from sklearn.model_selection import train_test_split"
   ]
  },
  {
   "cell_type": "code",
   "execution_count": 82,
   "metadata": {
    "collapsed": true
   },
   "outputs": [],
   "source": [
    "X = df[['Followers', 'Post Type']]\n",
    "y = df.Interactions"
   ]
  },
  {
   "cell_type": "code",
   "execution_count": 83,
   "metadata": {
    "collapsed": true
   },
   "outputs": [],
   "source": [
    "X_train, X_test, y_train, y_test = train_test_split(X, y)"
   ]
  },
  {
   "cell_type": "code",
   "execution_count": 84,
   "metadata": {
    "collapsed": true
   },
   "outputs": [],
   "source": [
    "one_hot = pd.get_dummies(X_train['Post Type'])\n",
    "X_train = X_train.join(one_hot)"
   ]
  },
  {
   "cell_type": "code",
   "execution_count": 85,
   "metadata": {
    "collapsed": false
   },
   "outputs": [
    {
     "data": {
      "text/html": [
       "<div>\n",
       "<style scoped>\n",
       "    .dataframe tbody tr th:only-of-type {\n",
       "        vertical-align: middle;\n",
       "    }\n",
       "\n",
       "    .dataframe tbody tr th {\n",
       "        vertical-align: top;\n",
       "    }\n",
       "\n",
       "    .dataframe thead th {\n",
       "        text-align: right;\n",
       "    }\n",
       "</style>\n",
       "<table border=\"1\" class=\"dataframe\">\n",
       "  <thead>\n",
       "    <tr style=\"text-align: right;\">\n",
       "      <th></th>\n",
       "      <th>Followers</th>\n",
       "      <th>Post Type</th>\n",
       "      <th>Facebook</th>\n",
       "      <th>Reddit</th>\n",
       "      <th>Twitter</th>\n",
       "    </tr>\n",
       "  </thead>\n",
       "  <tbody>\n",
       "    <tr>\n",
       "      <th>285</th>\n",
       "      <td>83525.0</td>\n",
       "      <td>Twitter</td>\n",
       "      <td>0</td>\n",
       "      <td>0</td>\n",
       "      <td>1</td>\n",
       "    </tr>\n",
       "    <tr>\n",
       "      <th>271</th>\n",
       "      <td>106648.0</td>\n",
       "      <td>Twitter</td>\n",
       "      <td>0</td>\n",
       "      <td>0</td>\n",
       "      <td>1</td>\n",
       "    </tr>\n",
       "    <tr>\n",
       "      <th>192</th>\n",
       "      <td>24101.0</td>\n",
       "      <td>Twitter</td>\n",
       "      <td>0</td>\n",
       "      <td>0</td>\n",
       "      <td>1</td>\n",
       "    </tr>\n",
       "    <tr>\n",
       "      <th>89</th>\n",
       "      <td>187264.0</td>\n",
       "      <td>Twitter</td>\n",
       "      <td>0</td>\n",
       "      <td>0</td>\n",
       "      <td>1</td>\n",
       "    </tr>\n",
       "    <tr>\n",
       "      <th>181</th>\n",
       "      <td>451099.0</td>\n",
       "      <td>Facebook</td>\n",
       "      <td>1</td>\n",
       "      <td>0</td>\n",
       "      <td>0</td>\n",
       "    </tr>\n",
       "  </tbody>\n",
       "</table>\n",
       "</div>"
      ],
      "text/plain": [
       "     Followers Post Type  Facebook  Reddit  Twitter\n",
       "285    83525.0   Twitter         0       0        1\n",
       "271   106648.0   Twitter         0       0        1\n",
       "192    24101.0   Twitter         0       0        1\n",
       "89    187264.0   Twitter         0       0        1\n",
       "181   451099.0  Facebook         1       0        0"
      ]
     },
     "execution_count": 85,
     "metadata": {},
     "output_type": "execute_result"
    }
   ],
   "source": [
    "X_train.head()"
   ]
  },
  {
   "cell_type": "code",
   "execution_count": 86,
   "metadata": {
    "collapsed": true
   },
   "outputs": [],
   "source": [
    "one_hot = pd.get_dummies(X_test['Post Type'])\n",
    "X_test = X_test.join(one_hot)"
   ]
  },
  {
   "cell_type": "code",
   "execution_count": 87,
   "metadata": {
    "collapsed": false
   },
   "outputs": [
    {
     "data": {
      "text/html": [
       "<div>\n",
       "<style scoped>\n",
       "    .dataframe tbody tr th:only-of-type {\n",
       "        vertical-align: middle;\n",
       "    }\n",
       "\n",
       "    .dataframe tbody tr th {\n",
       "        vertical-align: top;\n",
       "    }\n",
       "\n",
       "    .dataframe thead th {\n",
       "        text-align: right;\n",
       "    }\n",
       "</style>\n",
       "<table border=\"1\" class=\"dataframe\">\n",
       "  <thead>\n",
       "    <tr style=\"text-align: right;\">\n",
       "      <th></th>\n",
       "      <th>Followers</th>\n",
       "      <th>Post Type</th>\n",
       "      <th>Facebook</th>\n",
       "      <th>Reddit</th>\n",
       "      <th>Twitter</th>\n",
       "    </tr>\n",
       "  </thead>\n",
       "  <tbody>\n",
       "    <tr>\n",
       "      <th>100</th>\n",
       "      <td>0.0</td>\n",
       "      <td>Twitter</td>\n",
       "      <td>0</td>\n",
       "      <td>0</td>\n",
       "      <td>1</td>\n",
       "    </tr>\n",
       "    <tr>\n",
       "      <th>128</th>\n",
       "      <td>149398.0</td>\n",
       "      <td>Twitter</td>\n",
       "      <td>0</td>\n",
       "      <td>0</td>\n",
       "      <td>1</td>\n",
       "    </tr>\n",
       "    <tr>\n",
       "      <th>253</th>\n",
       "      <td>57672.0</td>\n",
       "      <td>Twitter</td>\n",
       "      <td>0</td>\n",
       "      <td>0</td>\n",
       "      <td>1</td>\n",
       "    </tr>\n",
       "    <tr>\n",
       "      <th>144</th>\n",
       "      <td>719823.0</td>\n",
       "      <td>Twitter</td>\n",
       "      <td>0</td>\n",
       "      <td>0</td>\n",
       "      <td>1</td>\n",
       "    </tr>\n",
       "    <tr>\n",
       "      <th>295</th>\n",
       "      <td>75542.0</td>\n",
       "      <td>Twitter</td>\n",
       "      <td>0</td>\n",
       "      <td>0</td>\n",
       "      <td>1</td>\n",
       "    </tr>\n",
       "  </tbody>\n",
       "</table>\n",
       "</div>"
      ],
      "text/plain": [
       "     Followers Post Type  Facebook  Reddit  Twitter\n",
       "100        0.0   Twitter         0       0        1\n",
       "128   149398.0   Twitter         0       0        1\n",
       "253    57672.0   Twitter         0       0        1\n",
       "144   719823.0   Twitter         0       0        1\n",
       "295    75542.0   Twitter         0       0        1"
      ]
     },
     "execution_count": 87,
     "metadata": {},
     "output_type": "execute_result"
    }
   ],
   "source": [
    "X_test.head()"
   ]
  },
  {
   "cell_type": "code",
   "execution_count": 94,
   "metadata": {
    "collapsed": false
   },
   "outputs": [],
   "source": [
    "X_train.drop('Post Type', axis = 1, inplace=True)"
   ]
  },
  {
   "cell_type": "code",
   "execution_count": 95,
   "metadata": {
    "collapsed": true
   },
   "outputs": [],
   "source": [
    "X_test.drop('Post Type', axis = 1, inplace=True)"
   ]
  },
  {
   "cell_type": "code",
   "execution_count": 111,
   "metadata": {
    "collapsed": true
   },
   "outputs": [],
   "source": [
    "from sklearn.preprocessing import StandardScaler\n",
    "std = StandardScaler()"
   ]
  },
  {
   "cell_type": "code",
   "execution_count": 112,
   "metadata": {
    "collapsed": true
   },
   "outputs": [],
   "source": [
    "X_train_std = std.fit_transform(X_train)\n",
    "X_test_std = std.transform(X_test)"
   ]
  },
  {
   "cell_type": "markdown",
   "metadata": {},
   "source": [
    "## KNN"
   ]
  },
  {
   "cell_type": "code",
   "execution_count": 105,
   "metadata": {
    "collapsed": true
   },
   "outputs": [],
   "source": [
    "from sklearn.neighbors import KNeighborsRegressor"
   ]
  },
  {
   "cell_type": "code",
   "execution_count": 133,
   "metadata": {
    "collapsed": true
   },
   "outputs": [],
   "source": [
    "model = KNeighborsRegressor()"
   ]
  },
  {
   "cell_type": "code",
   "execution_count": 134,
   "metadata": {
    "collapsed": false
   },
   "outputs": [
    {
     "data": {
      "text/plain": [
       "KNeighborsRegressor(algorithm='auto', leaf_size=30, metric='minkowski',\n",
       "          metric_params=None, n_jobs=1, n_neighbors=5, p=2,\n",
       "          weights='uniform')"
      ]
     },
     "execution_count": 134,
     "metadata": {},
     "output_type": "execute_result"
    }
   ],
   "source": [
    "model.fit(X_train_std, y_train)"
   ]
  },
  {
   "cell_type": "code",
   "execution_count": 135,
   "metadata": {
    "collapsed": false
   },
   "outputs": [],
   "source": [
    "pred = model.predict(X_test_std)"
   ]
  },
  {
   "cell_type": "code",
   "execution_count": 136,
   "metadata": {
    "collapsed": false
   },
   "outputs": [
    {
     "data": {
      "text/plain": [
       "855.4438649766133"
      ]
     },
     "execution_count": 136,
     "metadata": {},
     "output_type": "execute_result"
    }
   ],
   "source": [
    "from sklearn.metrics import mean_squared_error\n",
    "np.sqrt(mean_squared_error(y_test,pred))"
   ]
  },
  {
   "cell_type": "markdown",
   "metadata": {},
   "source": [
    "## SVM"
   ]
  },
  {
   "cell_type": "code",
   "execution_count": 165,
   "metadata": {
    "collapsed": true
   },
   "outputs": [],
   "source": [
    "from sklearn.svm import SVR"
   ]
  },
  {
   "cell_type": "code",
   "execution_count": 166,
   "metadata": {
    "collapsed": true
   },
   "outputs": [],
   "source": [
    "model = SVR(C=1000, kernel='linear')"
   ]
  },
  {
   "cell_type": "code",
   "execution_count": 167,
   "metadata": {
    "collapsed": false
   },
   "outputs": [
    {
     "data": {
      "text/plain": [
       "SVR(C=1000, cache_size=200, coef0=0.0, degree=3, epsilon=0.1, gamma='auto',\n",
       "  kernel='linear', max_iter=-1, shrinking=True, tol=0.001, verbose=False)"
      ]
     },
     "execution_count": 167,
     "metadata": {},
     "output_type": "execute_result"
    }
   ],
   "source": [
    "model.fit(X_train_std, y_train)"
   ]
  },
  {
   "cell_type": "code",
   "execution_count": 168,
   "metadata": {
    "collapsed": true
   },
   "outputs": [],
   "source": [
    "pred = model.predict(X_test_std)"
   ]
  },
  {
   "cell_type": "code",
   "execution_count": 169,
   "metadata": {
    "collapsed": false
   },
   "outputs": [
    {
     "data": {
      "text/plain": [
       "582.5355867418876"
      ]
     },
     "execution_count": 169,
     "metadata": {},
     "output_type": "execute_result"
    }
   ],
   "source": [
    "np.sqrt(mean_squared_error(y_test,pred))"
   ]
  },
  {
   "cell_type": "code",
   "execution_count": null,
   "metadata": {
    "collapsed": true
   },
   "outputs": [],
   "source": []
  }
 ],
 "metadata": {
  "anaconda-cloud": {},
  "kernelspec": {
   "display_name": "Python [conda env:py35]",
   "language": "python",
   "name": "conda-env-py35-py"
  },
  "language_info": {
   "codemirror_mode": {
    "name": "ipython",
    "version": 3
   },
   "file_extension": ".py",
   "mimetype": "text/x-python",
   "name": "python",
   "nbconvert_exporter": "python",
   "pygments_lexer": "ipython3",
   "version": "3.5.5"
  }
 },
 "nbformat": 4,
 "nbformat_minor": 0
}
